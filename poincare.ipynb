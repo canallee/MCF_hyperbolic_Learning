{
 "cells": [
  {
   "cell_type": "code",
   "execution_count": 11,
   "metadata": {},
   "outputs": [],
   "source": [
    "import timeit\n",
    "import torch\n",
    "from tqdm import tqdm\n",
    "import numpy as np\n",
    "import logging\n",
    "from hype.sn import Embedding \n",
    "from hype import train\n",
    "from hype.graph import load_edge_list, eval_reconstruction\n",
    "from hype.rsgd import RiemannianSGD\n",
    "from hype.Poincare import PoincareManifold\n",
    "import sys\n",
    "import json\n",
    "import torch.multiprocessing as mp\n",
    "from hype.graph_dataset import BatchedDataset\n",
    "\n",
    "device = torch.device('cpu')\n",
    "torch.set_default_tensor_type('torch.DoubleTensor')\n",
    "#torch.set_default_tensor_type('torch.FloatTensor')\n"
   ]
  },
  {
   "cell_type": "code",
   "execution_count": 12,
   "metadata": {},
   "outputs": [],
   "source": [
    "## parameters; these are global in the notebook!\n",
    "opt_maxnorm = 500000; opt_debug = False; opt_epochs = 100; \n",
    "opt_manifold = \"Poincare\"; opt_dim = 2; opt_com_n = 1;\n",
    "opt_negs = 50; opt_batchsize = 10; opt_eval_each = 20;\n",
    "opt_sparse = True; opt_ndproc = 4;  opt_burnin = 20;\n",
    "opt_dampening = 0.75; opt_neg_multiplier = 1.0; \n",
    "opt_burnin_multiplier = 0.01; opt_lr = 0.3 \n",
    "#######################################"
   ]
  },
  {
   "cell_type": "markdown",
   "metadata": {},
   "source": [
    "### Initializing logging and data loading"
   ]
  },
  {
   "cell_type": "code",
   "execution_count": 13,
   "metadata": {},
   "outputs": [
    {
     "name": "stdout",
     "output_type": "stream",
     "text": [
      "Using edge list dataloader\n"
     ]
    }
   ],
   "source": [
    "log_level = logging.DEBUG if opt_debug else logging.INFO\n",
    "log = logging.getLogger('Poincare')\n",
    "logging.basicConfig(level=log_level, format='%(message)s', stream=sys.stdout)\n",
    "log.info('Using edge list dataloader')\n",
    "idx, objects, weights = load_edge_list(\"wordnet/mammal_closure.csv\", False) "
   ]
  },
  {
   "cell_type": "markdown",
   "metadata": {},
   "source": [
    "### Initializing model"
   ]
  },
  {
   "cell_type": "code",
   "execution_count": 14,
   "metadata": {},
   "outputs": [],
   "source": [
    "def init_model(manifold, idx, objects, weights, sparse=True):\n",
    "    conf = []\n",
    "    model_name = '%s_dim%d%com_n'\n",
    "    mname = model_name % (opt_manifold, opt_dim, opt_com_n)\n",
    "    data = BatchedDataset(idx, objects, weights, opt_negs, opt_batchsize,\n",
    "        opt_ndproc, opt_burnin > 0, opt_dampening)\n",
    "    model = Embedding(len(data.objects), opt_dim, manifold, sparse=sparse, com_n=opt_com_n)\n",
    "    data.objects = objects\n",
    "    return model, data, mname, conf\n",
    "\n",
    "def adj_matrix(data):\n",
    "  adj = {}\n",
    "  for inputs, _ in data:\n",
    "    for row in inputs:\n",
    "        x = row[0].item(); y = row[1].item()\n",
    "        if x in adj:\n",
    "            adj[x].add(y)\n",
    "        else:\n",
    "            adj[x] = {y}\n",
    "  return adj"
   ]
  },
  {
   "cell_type": "markdown",
   "metadata": {},
   "source": [
    "### Training"
   ]
  },
  {
   "cell_type": "code",
   "execution_count": 15,
   "metadata": {},
   "outputs": [],
   "source": [
    "def data_loader_lr(data, epoch, progress = False):\n",
    "  data.burnin = True \n",
    "  lr = opt_lr\n",
    "  if epoch < opt_burnin:\n",
    "    data.burnin = True\n",
    "    lr = opt_lr * opt_burnin_multiplier\n",
    "  loader_iter = tqdm(data) if progress else data\n",
    "  return loader_iter, lr"
   ]
  },
  {
   "cell_type": "code",
   "execution_count": 19,
   "metadata": {},
   "outputs": [],
   "source": [
    "\n",
    "def train(device, model, data, optimizer, progress=False):\n",
    "  \n",
    "  epoch_loss = torch.Tensor(len(data))\n",
    "  LOSS = np.zeros(opt_epochs)\n",
    "  \n",
    "  for epoch in range(opt_epochs):\n",
    "    largest_weight_emb = round(torch.abs(model.lt.weight.data).max().item(), 6)\n",
    "    print(largest_weight_emb, \"is the largest absolute weight in the embedding\")\n",
    "    \n",
    "    epoch_loss.fill_(0)\n",
    "    t_start = timeit.default_timer()\n",
    "    # handling burnin, get loader_iter and learning rate\n",
    "    loader_iter, lr = data_loader_lr(data, epoch, progress = progress)\n",
    "    \n",
    "    for i_batch, (inputs, targets) in enumerate(loader_iter):\n",
    "      # if epoch == 0:\n",
    "      #     print((inputs, targets))\n",
    "      #     return\n",
    "      elapsed = timeit.default_timer() - t_start\n",
    "      inputs = inputs.to(device); targets = targets.to(device)\n",
    "      \n",
    "      optimizer.zero_grad()\n",
    "      preds = model(inputs)\n",
    "      loss = model.loss(preds, targets, size_average=True)\n",
    "      loss.backward()\n",
    "      optimizer.step(lr=lr)\n",
    "      epoch_loss[i_batch] = loss.cpu().item()\n",
    "      \n",
    "    LOSS[epoch] = torch.mean(epoch_loss).item()\n",
    "    # since only one thread is used:\n",
    "    log.info('json_stats: {' f'\"epoch\": {epoch}, ' \\\n",
    "    f'\"elapsed\": {elapsed}, ' f'\"loss\": {LOSS[epoch]}, ' '}')\n",
    "  return"
   ]
  },
  {
   "cell_type": "markdown",
   "metadata": {},
   "source": [
    "# Training embedding"
   ]
  },
  {
   "cell_type": "code",
   "execution_count": 20,
   "metadata": {},
   "outputs": [
    {
     "name": "stdout",
     "output_type": "stream",
     "text": [
      ">>>>>> The size of embedding: Embedding(1180, 2, sparse=True)\n",
      "the total dimension 2 com_n 1\n",
      "0.0001 is the largest absolute weight in the embedding\n",
      "(tensor([[ 817,  114,  220,   75,  450,  104,   58,    6,   88,   39,  120,  310,\n",
      "          829,  521,  831,   99,   20,  210,  209,   80,  197,   61,   53,   84,\n",
      "          188,   63,  113,  213,  589,   73,   36,  174,  687,  430,   10,  343,\n",
      "           25,  438,    3,  171,   23,  143,  669,   48,  166,   82,  706,  332,\n",
      "          387,   13,  108,  403],\n",
      "        [ 146,   20,  343,   77,   58,   36,  243,  253,   10,   61,  114,  742,\n",
      "          369,   27,   80,   33,   54,  902,  540,  439,   73,  135,  113,   31,\n",
      "          587,  176,   92,   56,   99,  106,  418,   97,  133,  939,  295,    6,\n",
      "          477,  995,  443,  430,  608, 1074,  153,  682,  862,  122,   84,  118,\n",
      "           66,  509,  171,  166],\n",
      "        [  71,    8,   15,  692,  369,  188,  108,   20,   28, 1027,  869,  589,\n",
      "          709,   80,  426,  679,  104,   13,   23,  272,   95,  220,   18,  291,\n",
      "           39,  166,  576,  587,  114,  113,  438,  976,  171,  608,  440,  452,\n",
      "          687,   56,  303,   82,   48, 1045,  742,  295,  195,  177,  831,   73,\n",
      "           81,  136,  253,   58],\n",
      "        [ 900,  115,  589,  181,   23,   31,   20,  862,  104,  188,  279,  692,\n",
      "          576,  369,  794,   48,   80,  166,   39,   18,  295,  682,  518,  210,\n",
      "          400,  213,   10,  209,  679,  143,    6,   58, 1061,   36,   42,  343,\n",
      "          535,   66,  438,  492,   99,  837,  509,  113,  591,  377,  191,  601,\n",
      "          141,  422,   56,  225],\n",
      "        [ 529,   73,   10,  445,   20,  113,  400,  794,   23,   80,  470,  120,\n",
      "           61, 1027,   36,    6,   42,  535,   82,  230,  279,  518,  369,   54,\n",
      "           92,   99,   25,  283,   31,  145,  540,  902,  166,   81,   88, 1061,\n",
      "          210,  191,   39,  492,   84,  118,  742,  213,  190,   18,   58,  533,\n",
      "          272,  862,  658,  486],\n",
      "        [ 357,   54,   80,   10,   23,   31,  400,  369,   20,  148,   18,    6,\n",
      "           61,  108,  305,   34,   33,  558,  104,  831,  179,  195,  166,  233,\n",
      "          438,  171,   39, 1027,  229,  837,  320,  679,  509,  552,  486,  682,\n",
      "          343,   98,  272, 1009,  279,  920,  297,   25,  173,  101,  345,   99,\n",
      "          114,  191,  188, 1155],\n",
      "        [1052,   54,   48,  113,   56,   58,  104,  166,  576,   99,  343,   82,\n",
      "          794,  511,   20,  295,  125,  187,    6,  829,   25,   39,  492,   10,\n",
      "          108,   77,  188,  376,  120,  115,  403,  297,   36,  253,  596,  179,\n",
      "           61,  210,  195,  209,   28,  910,  540,  281,   73,   66,  177,  191,\n",
      "           80,  548,  463,  679],\n",
      "        [1064,    8, 1070,   82, 1139,   13,  108,  210,  492,   10,  315,   80,\n",
      "          104,   20,  599,  120,  849,  742,  914,  336,  434,  831,   54,  911,\n",
      "          283,  552,  400,  939,  295,    7,  930,  166,  507,   48,  439,   58,\n",
      "          567,  730,  463,  101,  477,   18,  173,  195,  143,    6,  191,  535,\n",
      "           36,  438,   28,   63],\n",
      "        [ 503,    3,   54,   58,   81,   39,  550,   56,  518,  509,  195,  589,\n",
      "         1121,  120,  171,  400,   12,   82,  104,  682,  533,  148,   95,   73,\n",
      "          114,   20,   63,  253,  281,  383,  143,   94,  862,  101,   97,  636,\n",
      "           80,  291,  395,  115,  295,  781,   99,  414,  197,  623,  113,   23,\n",
      "          213,  118,   27,  403],\n",
      "        [ 653,   61,  849,  416,  253,  587,   42,   20,   23,   54,  682,  418,\n",
      "          914,  275,  133,    3,  195,  295,   58,  213,  441,  540,  115,   73,\n",
      "          104,  174,   92,  143,  179,  636,  166,  480,  281, 1150,  135,   13,\n",
      "          177,  237,  101,  209,   98,  742,   15,  608,  120,  188,  507,  535,\n",
      "           39,  902,   48,  303]]), tensor([0, 0, 0, 0, 0, 0, 0, 0, 0, 0]))\n",
      "Total training time is: 0.003146581002511084\n"
     ]
    }
   ],
   "source": [
    "# setup model\n",
    "manifold = PoincareManifold(\n",
    "    debug=opt_debug, max_norm=opt_maxnorm, com_n=opt_com_n)\n",
    "model, data, model_name, conf = init_model(\n",
    "    manifold, idx, objects, weights, sparse=opt_sparse)\n",
    "data.neg_multiplier = opt_neg_multiplier\n",
    "model = model.to(device)\n",
    "print('the total dimension', model.lt.weight.data.size(-1), 'com_n', opt_com_n)\n",
    "\n",
    "# setup optimizer\n",
    "optimizer = RiemannianSGD(model.optim_params(manifold), lr= opt_lr)\n",
    "# get adjacency matrix\n",
    "adj = adj_matrix(data) \n",
    "# begin training\n",
    "start_time = timeit.default_timer()\n",
    "train(device, model, data, optimizer, progress=False )\n",
    "print(\"Total training time is:\", timeit.default_timer() - start_time)\n"
   ]
  },
  {
   "cell_type": "markdown",
   "metadata": {},
   "source": [
    "# Evaluate embedding"
   ]
  },
  {
   "cell_type": "code",
   "execution_count": 18,
   "metadata": {},
   "outputs": [
    {
     "name": "stdout",
     "output_type": "stream",
     "text": [
      "json_stats final test: \n",
      "{\"sqnorm_min\": 1.1e-05, \"sqnorm_avg\": 0.000562, \"sqnorm_max\": 0.004446, \n",
      "\"mean_rank\": 637.534404, \"map\": 0.011661, }\n"
     ]
    }
   ],
   "source": [
    "meanrank, maprank = eval_reconstruction(\n",
    "    adj, model.lt.weight.data.clone(), manifold.distance, workers=opt_ndproc)\n",
    "sqnorms = manifold.pnorm(model.lt.weight.data.clone())\n",
    "log.info(\n",
    "        'json_stats final test: \\n{' \n",
    "        f'\"sqnorm_min\": {round(sqnorms.min().item(),6)}, '\n",
    "        f'\"sqnorm_avg\": {round(sqnorms.mean().item(),6)}, '\n",
    "        f'\"sqnorm_max\": {round(sqnorms.max().item(),6)}, \\n'\n",
    "        f'\"mean_rank\": {round(meanrank,6)}, '\n",
    "        f'\"map\": {round(maprank,6)}, '\n",
    "        '}'\n",
    "    )"
   ]
  }
 ],
 "metadata": {
  "interpreter": {
   "hash": "3a0267f670e2b0941e569fb4138371a40e75b428fb955a02da7bcb7cd596bc5c"
  },
  "kernelspec": {
   "display_name": "Python 3.8.5 ('base')",
   "language": "python",
   "name": "python3"
  },
  "language_info": {
   "codemirror_mode": {
    "name": "ipython",
    "version": 3
   },
   "file_extension": ".py",
   "mimetype": "text/x-python",
   "name": "python",
   "nbconvert_exporter": "python",
   "pygments_lexer": "ipython3",
   "version": "3.6.13"
  },
  "orig_nbformat": 4
 },
 "nbformat": 4,
 "nbformat_minor": 2
}
